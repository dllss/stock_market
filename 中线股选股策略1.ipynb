{
 "cells": [
  {
   "cell_type": "code",
   "execution_count": 26,
   "metadata": {},
   "outputs": [],
   "source": [
    "# 模型训练\n",
    "import numpy as np\n",
    "import pandas as pd\n",
    "import os\n",
    "import tqdm\n",
    "import datetime\n",
    "import time\n",
    "from GlobalVariable import encoding_type, base_path\n",
    "\n",
    "market_map = {'主板':0, '中小板':1}\n",
    "exchange_map = {'SZSE':0, 'SSE':1}\n",
    "is_hs_map = {'S':0, 'N':1, 'H':2}\n",
    "\n",
    "area_map = {'深圳': 0, '北京': 1, '吉林': 2, '江苏': 3, '辽宁': 4, '广东': 5, '安徽': 6, '四川': 7, '浙江': 8,\n",
    "            '湖南': 9, '河北': 10, '新疆': 11, '山东': 12, '河南': 13, '山西': 14, '江西': 15, '青海': 16, \n",
    "            '湖北': 17, '内蒙': 18, '海南': 19, '重庆': 20, '陕西': 21, '福建': 22, '广西': 23, '天津': 24, \n",
    "            '云南': 25, '贵州': 26, '甘肃': 27, '宁夏': 28, '黑龙江': 29, '上海': 30, '西藏': 31}\n",
    "\n",
    "industry_map = {'银行': 0, '全国地产': 1, '生物制药': 2, '环境保护': 3, '区域地产': 4, '酒店餐饮': 5, '运输设备': 6, \n",
    " '综合类': 7, '建筑工程': 8, '玻璃': 9, '家用电器': 10, '文教休闲': 11, '其他商业': 12, '元器件': 13, \n",
    " 'IT设备': 14, '其他建材': 15, '汽车服务': 16, '火力发电': 17, '医药商业': 18, '汽车配件': 19, '广告包装': 20, \n",
    " '轻工机械': 21, '新型电力': 22, '饲料': 23, '电气设备': 24, '房产服务': 25, '石油加工': 26, '铅锌': 27, '农业综合': 28,\n",
    " '批发业': 29, '通信设备': 30, '旅游景点': 31, '港口': 32, '机场': 33, '石油贸易': 34, '空运': 35, '医疗保健': 36,\n",
    " '商贸代理': 37, '化学制药': 38, '影视音像': 39, '工程机械': 40, '软件服务': 41, '证券': 42, '化纤': 43, '水泥': 44, \n",
    " '专用机械': 45, '供气供热': 46, '农药化肥': 47, '机床制造': 48, '多元金融': 49, '百货': 50, '中成药': 51, '路桥': 52, \n",
    " '造纸': 53, '食品': 54, '黄金': 55, '化工原料': 56, '矿物制品': 57, '水运': 58, '日用化工': 59, '机械基件': 60, \n",
    " '汽车整车': 61, '煤炭开采': 62, '铁路': 63, '染料涂料': 64, '白酒': 65, '林业': 66, '水务': 67, '水力发电': 68, \n",
    " '互联网': 69, '旅游服务': 70, '纺织': 71, '铝': 72, '保险': 73, '园区开发': 74, '小金属': 75, '铜': 76, '普钢': 77, \n",
    " '航空': 78, '特种钢': 79, '种植业': 80, '出版业': 81, '焦炭加工': 82, '啤酒': 83, '公路': 84, '超市连锁': 85, \n",
    " '钢加工': 86, '渔业': 87, '农用机械': 88, '软饮料': 89, '化工机械': 90, '塑料': 91, '红黄酒': 92, '橡胶': 93, '家居用品': 94,\n",
    " '摩托车': 95, '电器仪表': 96, '服饰': 97, '仓储物流': 98, '纺织机械': 99, '电器连锁': 100, '装修装饰': 101, '半导体': 102, \n",
    " '电信运营': 103, '石油开采': 104, '乳制品': 105, '商品城': 106, '公共交通': 107, '船舶': 108, '陶瓷': 109}"
   ]
  },
  {
   "cell_type": "code",
<<<<<<< Updated upstream
   "execution_count": 4,
=======
   "execution_count": 39,
>>>>>>> Stashed changes
   "metadata": {},
   "outputs": [
    {
     "name": "stderr",
     "output_type": "stream",
     "text": [
<<<<<<< Updated upstream
      "100%|██████████| 301/301 [10:06<00:00,  2.01s/it]  \n"
=======
      "100%|██████████| 301/301 [01:40<00:00,  3.01it/s]\n"
>>>>>>> Stashed changes
     ]
    },
    {
     "name": "stdout",
     "output_type": "stream",
     "text": [
<<<<<<< Updated upstream
      "638 638\n"
=======
      "104572 104572\n"
>>>>>>> Stashed changes
     ]
    }
   ],
   "source": [
    "def JudgeST(x):\n",
    "    return 1 if 'ST' in x else 0\n",
    "\n",
    "# 数据与rolling_day后的差\n",
    "def GetMA(df, col_name, rolling_day):\n",
    "    # reshape(-1) 扁平化 扁平化为1维数组\n",
    "    tmp_array = df[col_name].values.reshape(-1)\n",
    "    # tmp_array[:-rolling_day]: 0 ~ (tmp_array.size - rolling_day)\n",
    "    # tmp_array[rolling_day:]: rolling_day ~ tmp_array.size\n",
    "    # 从rolling_day行开始，计算(tmp_array[X + 5] - tmp_array[X]) / tmp_array[X]， 并赋值给df[rolling_day:, f'{col_name}_{str(rolling_day)}']\n",
    "    df.loc[rolling_day:, f'{col_name}_{str(rolling_day)}'] = ((tmp_array[:-rolling_day] - tmp_array[rolling_day:])) / tmp_array[:-rolling_day]\n",
    "    return df\n",
    "\n",
    "# ma: 收盘价的移动平均线，Moving Average\n",
    "# ma_v: 成交总量的移动平均线\n",
    "col = [f'ma{str(i)}' for i in [5, 10, 13, 21, 30]] + [f'ma_v_{str(i)}' for i in [5, 10, 13, 21, 30]]\n",
    "\n",
    "company_info = pd.read_csv(os.path.join(base_path, 'company_info.csv'), encoding=encoding_type)\n",
    "company_info['is_ST'] = company_info['name'].apply(JudgeST)\n",
    "# 丢弃一些多余的信息\n",
    "# drop([])，默认情况下删除某一行；\n",
    "# 如果要删除某列，需要axis=1；\n",
    "# 参数inplace 默认情况下为False，表示d保持原来的数据不变，True 则表示在原来的数据上改变。\n",
    "company_info.drop(['index', 'symbol', 'fullname'], axis=1, inplace=True)\n",
    "company_info.dropna(inplace=True)\n",
    "company_info['market'] = company_info['market'].map(market_map)\n",
    "company_info['exchange'] = company_info['exchange'].map(exchange_map)\n",
    "company_info['is_hs'] = company_info['is_hs'].map(is_hs_map)\n",
    "\n",
    "# 读取指数信息\n",
    "stock_index_info = pd.DataFrame()\n",
    "tmp_df = pd.read_csv(os.path.join(base_path,  'OldData', '000001.SH_NormalData.csv'))\n",
    "tmp_list = list(tmp_df['trade_date'].sort_values())\n",
    "date_map = dict(zip(tmp_list, range(len(tmp_list))))\n",
    "\n",
    "# 读取股票交易信息\n",
    "stock_info = pd.DataFrame()\n",
    "remove_stock = []\n",
    "tmp_list = []\n",
    "for ts_code in tqdm.tqdm(company_info['ts_code']):\n",
    "    try:\n",
    "        tmp_df = pd.read_csv(os.path.join(base_path, 'OldData', f'{ts_code}_NormalData.csv'))\n",
    "    except Exception:\n",
    "        continue\n",
    "    # 还需要去除一些停牌时间很久的企业，后期加\n",
<<<<<<< Updated upstream
    "    if len(tmp_df) < 50:  # 去除一些上市不久的企业\n",
=======
    "    if len(tmp_df) < 120:  # 去除一些上市不久的企业\n",
>>>>>>> Stashed changes
    "        remove_stock.append(ts_code)\n",
    "        continue\n",
    "    tmp_df = tmp_df.sort_values('trade_date', ascending=True).reset_index(drop=True)\n",
    "    for tmp_col in col:\n",
    "        for rolling_day in [5]:\n",
    "            tmp_df = GetMA(tmp_df, tmp_col, rolling_day)\n",
    "    tmp_list.append(tmp_df)\n",
    "\n",
    "stock_info = pd.concat(tmp_list)\n",
    "stock_info = stock_info.reset_index(drop=True)\n",
    "ts_code_map = dict(zip(list(company_info['ts_code']), range(len(company_info))))\n",
    "\n",
    "\n",
    "stock_info = stock_info.reset_index(drop=True)\n",
    "stock_info['ts_code_id'] = stock_info['ts_code'].map(ts_code_map)\n",
    "\n",
    "stock_info['trade_date_id'] = stock_info['trade_date'].map(date_map)\n",
    "# 以 ts_code_id股票代码 和 trade_date_id股票日期 形成唯一索引\n",
    "stock_info['ts_date_id'] = (10000 + stock_info['ts_code_id']) * 10000 + stock_info['trade_date_id']\n",
    "stock_info = stock_info.merge(company_info, how='left', on='ts_code')\n",
    "stock_info_copy = stock_info.copy()\n",
    "\n",
    "# 移除重复数据， 针对nan?\n",
    "stock_info = stock_info.drop_duplicates(subset=['ts_date_id'])\n",
    "# len(stock_info) = len(ts_code) * len(ts_date)\n",
    "print(len(stock_info), len(stock_info_copy))"
   ]
  },
  {
   "cell_type": "markdown",
   "metadata": {},
   "source": [
    "# 特征工程"
   ]
  },
  {
   "cell_type": "code",
<<<<<<< Updated upstream
   "execution_count": 5,
=======
   "execution_count": 28,
>>>>>>> Stashed changes
   "metadata": {},
   "outputs": [],
   "source": [
    "feature_col = []"
   ]
  },
  {
   "cell_type": "code",
<<<<<<< Updated upstream
   "execution_count": 6,
=======
   "execution_count": 29,
>>>>>>> Stashed changes
   "metadata": {},
   "outputs": [],
   "source": [
    "# 获取月份 和 星期几\n",
    "def get_weekday(x):\n",
    "    x = str(x)\n",
    "    return datetime.datetime.fromtimestamp(time.mktime(time.strptime(x, \"%Y%m%d\"))).weekday()\n",
    "\n",
    "stock_info['month'] = stock_info['trade_date'].apply(lambda x: int(str(x)[4:6]))\n",
    "stock_info['weekday'] = stock_info['trade_date'].apply(get_weekday)\n",
    "feature_col.append('month')\n",
    "feature_col.append('weekday')"
   ]
  },
  {
   "cell_type": "code",
<<<<<<< Updated upstream
   "execution_count": 7,
=======
   "execution_count": 30,
>>>>>>> Stashed changes
   "metadata": {},
   "outputs": [],
   "source": [
    "# 获取每日涨跌停统计，如果某天涨停数远远多于跌停数，则说明市场赚钱效应显著\n",
    "# 添加涨跌停信息\n",
    "limit_info = pd.read_csv(os.path.join(base_path, 'limit.csv'))\n",
    "limit_info.drop('file', axis=1, inplace=True)\n",
    "limit_info['U-D'] = limit_info['U'] - limit_info['D']\n",
    "limit_info = limit_info.rename(columns={'date':'trade_date'})\n",
    "stock_info = stock_info.merge(limit_info[['U-D', 'trade_date']], on='trade_date', how='left')\n",
    "feature_col.append('U-D')"
   ]
  },
  {
   "cell_type": "code",
<<<<<<< Updated upstream
   "execution_count": 8,
=======
   "execution_count": 31,
>>>>>>> Stashed changes
   "metadata": {},
   "outputs": [],
   "source": [
    "# 将每日成交量做一些处理，利用10天成交量均线换算成比例，开盘价等也是如此\n",
    "\n",
    "# 求相对的vol(成交总量) 这里与10日成交均线比较\n",
    "stock_info['vol'] = (stock_info['vol'] - stock_info['ma_v_10']) / stock_info['ma_v_10']\n",
    "feature_col.append('vol')\n",
    "\n",
    "#转换low close等\n",
    "col = ['open', 'high', 'low', 'high', 'pre_close']\n",
    "for tmp_col in col:\n",
    "    stock_info[f'{tmp_col}_transform'] = (stock_info[tmp_col] - stock_info['ma10']) / stock_info['ma10']\n",
    "    feature_col.append(f'{tmp_col}_transform')\n"
   ]
  },
  {
   "cell_type": "code",
<<<<<<< Updated upstream
   "execution_count": 9,
=======
   "execution_count": 32,
>>>>>>> Stashed changes
   "metadata": {},
   "outputs": [
    {
     "name": "stdout",
     "output_type": "stream",
     "text": [
      "amount_index_000001\n",
      "pre_close_index_000001\n",
      "amount\n",
      "pre_close\n"
     ]
    }
   ],
   "source": [
    "# 将大盘近五日相对于当天大盘情况换算成比例\n",
    "# 添加大盘指数信息\n",
    "tmp_df = pd.read_csv(os.path.join(base_path,  'OldData', '000001.SH' + '_NormalData.csv'))\n",
    "for tmp_col in ['amount', 'pre_close']:\n",
    "    tmp_df = tmp_df.rename(columns={tmp_col: f'{tmp_col}_index_000001'})\n",
    "    stock_info = stock_info.merge(tmp_df[['trade_date', f'{tmp_col}_index_000001']], on='trade_date', how='left')\n",
    "\n",
    "\n",
    "for tmp_col in ['amount_index_000001', 'pre_close_index_000001', 'amount', 'pre_close']:\n",
    "    print(tmp_col)\n",
    "    for i in range(5):\n",
    "        tmp_df = stock_info[['ts_date_id', tmp_col]]\n",
    "        new_col_name = f'{tmp_col}_shift_{i + 1}'\n",
    "        tmp_df = tmp_df.rename(columns={tmp_col:new_col_name})\n",
    "        feature_col.append(new_col_name)\n",
    "        tmp_df['ts_date_id'] = tmp_df['ts_date_id'] + i + 1\n",
    "        stock_info = stock_info.merge(tmp_df, how='left', on='ts_date_id')\n",
    "    for i in range(5):\n",
    "        new_col_name = f'{tmp_col}_shift_{i + 1}'\n",
    "        stock_info[new_col_name] = (stock_info[tmp_col] - stock_info[new_col_name]) / stock_info[new_col_name]"
   ]
  },
  {
   "cell_type": "code",
<<<<<<< Updated upstream
   "execution_count": 10,
=======
   "execution_count": 33,
>>>>>>> Stashed changes
   "metadata": {},
   "outputs": [],
   "source": [
    "feature_col.append('turnover_rate')"
   ]
  },
  {
   "cell_type": "code",
<<<<<<< Updated upstream
   "execution_count": 11,
=======
   "execution_count": 34,
>>>>>>> Stashed changes
   "metadata": {},
   "outputs": [
    {
     "data": {
      "text/plain": [
       "Index(['trade_date', 'ts_code', 'open', 'high', 'low', 'close', 'pre_close',\n",
       "       'change', 'pct_chg', 'vol', 'amount', 'turnover_rate', 'volume_ratio',\n",
       "       'ma5', 'ma_v_5', 'ma10', 'ma_v_10', 'ma13', 'ma_v_13', 'ma21',\n",
       "       'ma_v_21', 'ma30', 'ma_v_30', 'ma60', 'ma_v_60', 'ma120', 'ma_v_120',\n",
       "       'ma5_5', 'ma10_5', 'ma13_5', 'ma21_5', 'ma30_5', 'ma_v_5_5',\n",
       "       'ma_v_10_5', 'ma_v_13_5', 'ma_v_21_5', 'ma_v_30_5', 'ts_code_id',\n",
       "       'trade_date_id', 'ts_date_id', 'name', 'area', 'industry', 'market',\n",
       "       'exchange', 'list_date', 'is_hs', 'is_ST', 'month', 'weekday', 'U-D',\n",
       "       'open_transform', 'high_transform', 'low_transform',\n",
       "       'pre_close_transform', 'amount_index_000001', 'pre_close_index_000001',\n",
       "       'amount_index_000001_shift_1', 'amount_index_000001_shift_2',\n",
       "       'amount_index_000001_shift_3', 'amount_index_000001_shift_4',\n",
       "       'amount_index_000001_shift_5', 'pre_close_index_000001_shift_1',\n",
       "       'pre_close_index_000001_shift_2', 'pre_close_index_000001_shift_3',\n",
       "       'pre_close_index_000001_shift_4', 'pre_close_index_000001_shift_5',\n",
       "       'amount_shift_1', 'amount_shift_2', 'amount_shift_3', 'amount_shift_4',\n",
       "       'amount_shift_5', 'pre_close_shift_1', 'pre_close_shift_2',\n",
       "       'pre_close_shift_3', 'pre_close_shift_4', 'pre_close_shift_5'],\n",
       "      dtype='object')"
      ]
     },
<<<<<<< Updated upstream
     "execution_count": 11,
=======
     "execution_count": 34,
>>>>>>> Stashed changes
     "metadata": {},
     "output_type": "execute_result"
    }
   ],
   "source": [
    "stock_info.columns"
   ]
  },
  {
   "cell_type": "code",
<<<<<<< Updated upstream
   "execution_count": 12,
=======
   "execution_count": 35,
>>>>>>> Stashed changes
   "metadata": {},
   "outputs": [],
   "source": [
    "# 特征需要向前移一天，策略买入是第二天的开盘价，所以当天算出来的特征需要向前平移一天\n",
    "# 将特征向前平移一天也可以方便后期给大家推荐股票\n",
    "# 设置买入时间为第二天的开盘，买入价格开盘价\n",
    "stock_info['ts_date_id'] = stock_info['ts_date_id'] + 1"
   ]
  },
  {
   "cell_type": "markdown",
   "metadata": {},
   "source": [
    "# 标签读取"
   ]
  },
  {
   "cell_type": "code",
<<<<<<< Updated upstream
   "execution_count": 13,
=======
   "execution_count": 36,
>>>>>>> Stashed changes
   "metadata": {},
   "outputs": [],
   "source": [
    "label_path = os.path.join('stock', 'label', 'label.csv')\n",
    "label = pd.read_csv(label_path)\n",
    "label = label[['ts_code', 'trade_date', 'open', 'ts_date_id', 'label_final']]"
   ]
  },
  {
   "cell_type": "code",
<<<<<<< Updated upstream
   "execution_count": 14,
=======
   "execution_count": 37,
>>>>>>> Stashed changes
   "metadata": {},
   "outputs": [
    {
     "name": "stderr",
     "output_type": "stream",
     "text": [
      "Traceback (most recent call last):\n",
      "  File \"_pydevd_bundle/pydevd_cython.pyx\", line 1134, in _pydevd_bundle.pydevd_cython.PyDBFrame.trace_dispatch\n",
      "  File \"_pydevd_bundle/pydevd_cython.pyx\", line 311, in _pydevd_bundle.pydevd_cython.PyDBFrame.do_wait_suspend\n",
      "  File \"C:\\Users\\dllss\\AppData\\Roaming\\Python\\Python310\\site-packages\\debugpy\\_vendored\\pydevd\\pydevd.py\", line 2062, in do_wait_suspend\n",
      "    keep_suspended = self._do_wait_suspend(thread, frame, event, arg, suspend_type, from_this_thread, frames_tracker)\n",
      "  File \"C:\\Users\\dllss\\AppData\\Roaming\\Python\\Python310\\site-packages\\debugpy\\_vendored\\pydevd\\pydevd.py\", line 2098, in _do_wait_suspend\n",
      "    time.sleep(0.01)\n",
      "KeyboardInterrupt\n"
     ]
    },
    {
     "ename": "KeyboardInterrupt",
     "evalue": "",
     "output_type": "error",
     "traceback": [
      "\u001b[1;31m---------------------------------------------------------------------------\u001b[0m",
      "\u001b[1;31mKeyboardInterrupt\u001b[0m                         Traceback (most recent call last)",
      "Cell \u001b[1;32mIn [37], line 4\u001b[0m\n\u001b[0;32m      2\u001b[0m stock_info \u001b[38;5;241m=\u001b[39m label\u001b[38;5;241m.\u001b[39mmerge(stock_info, on\u001b[38;5;241m=\u001b[39m\u001b[38;5;124m'\u001b[39m\u001b[38;5;124mts_date_id\u001b[39m\u001b[38;5;124m'\u001b[39m, how\u001b[38;5;241m=\u001b[39m\u001b[38;5;124m'\u001b[39m\u001b[38;5;124mleft\u001b[39m\u001b[38;5;124m'\u001b[39m)\n\u001b[0;32m      3\u001b[0m stock_info\u001b[38;5;241m.\u001b[39mto_csv(\u001b[38;5;124m'\u001b[39m\u001b[38;5;124moutput.csv\u001b[39m\u001b[38;5;124m'\u001b[39m, index\u001b[38;5;241m=\u001b[39m\u001b[38;5;28;01mFalse\u001b[39;00m)\n\u001b[1;32m----> 4\u001b[0m \u001b[43mstock_info\u001b[49m\u001b[38;5;241m.\u001b[39mdropna(inplace\u001b[38;5;241m=\u001b[39m\u001b[38;5;28;01mTrue\u001b[39;00m)\n\u001b[0;32m      5\u001b[0m \u001b[38;5;28mprint\u001b[39m(stock_info)\n",
      "Cell \u001b[1;32mIn [37], line 4\u001b[0m\n\u001b[0;32m      2\u001b[0m stock_info \u001b[38;5;241m=\u001b[39m label\u001b[38;5;241m.\u001b[39mmerge(stock_info, on\u001b[38;5;241m=\u001b[39m\u001b[38;5;124m'\u001b[39m\u001b[38;5;124mts_date_id\u001b[39m\u001b[38;5;124m'\u001b[39m, how\u001b[38;5;241m=\u001b[39m\u001b[38;5;124m'\u001b[39m\u001b[38;5;124mleft\u001b[39m\u001b[38;5;124m'\u001b[39m)\n\u001b[0;32m      3\u001b[0m stock_info\u001b[38;5;241m.\u001b[39mto_csv(\u001b[38;5;124m'\u001b[39m\u001b[38;5;124moutput.csv\u001b[39m\u001b[38;5;124m'\u001b[39m, index\u001b[38;5;241m=\u001b[39m\u001b[38;5;28;01mFalse\u001b[39;00m)\n\u001b[1;32m----> 4\u001b[0m \u001b[43mstock_info\u001b[49m\u001b[38;5;241m.\u001b[39mdropna(inplace\u001b[38;5;241m=\u001b[39m\u001b[38;5;28;01mTrue\u001b[39;00m)\n\u001b[0;32m      5\u001b[0m \u001b[38;5;28mprint\u001b[39m(stock_info)\n",
      "File \u001b[1;32m_pydevd_bundle/pydevd_cython.pyx:1443\u001b[0m, in \u001b[0;36m_pydevd_bundle.pydevd_cython.SafeCallWrapper.__call__\u001b[1;34m()\u001b[0m\n",
      "File \u001b[1;32m_pydevd_bundle/pydevd_cython.pyx:700\u001b[0m, in \u001b[0;36m_pydevd_bundle.pydevd_cython.PyDBFrame.trace_dispatch\u001b[1;34m()\u001b[0m\n",
      "File \u001b[1;32m_pydevd_bundle/pydevd_cython.pyx:1143\u001b[0m, in \u001b[0;36m_pydevd_bundle.pydevd_cython.PyDBFrame.trace_dispatch\u001b[1;34m()\u001b[0m\n",
      "File \u001b[1;32m_pydevd_bundle/pydevd_cython.pyx:1134\u001b[0m, in \u001b[0;36m_pydevd_bundle.pydevd_cython.PyDBFrame.trace_dispatch\u001b[1;34m()\u001b[0m\n",
      "File \u001b[1;32m_pydevd_bundle/pydevd_cython.pyx:311\u001b[0m, in \u001b[0;36m_pydevd_bundle.pydevd_cython.PyDBFrame.do_wait_suspend\u001b[1;34m()\u001b[0m\n",
      "File \u001b[1;32m~\\AppData\\Roaming\\Python\\Python310\\site-packages\\debugpy\\_vendored\\pydevd\\pydevd.py:2062\u001b[0m, in \u001b[0;36mPyDB.do_wait_suspend\u001b[1;34m(self, thread, frame, event, arg, exception_type)\u001b[0m\n\u001b[0;32m   2059\u001b[0m             from_this_thread\u001b[38;5;241m.\u001b[39mappend(frame_custom_thread_id)\n\u001b[0;32m   2061\u001b[0m     \u001b[38;5;28;01mwith\u001b[39;00m \u001b[38;5;28mself\u001b[39m\u001b[38;5;241m.\u001b[39m_threads_suspended_single_notification\u001b[38;5;241m.\u001b[39mnotify_thread_suspended(thread_id, stop_reason):\n\u001b[1;32m-> 2062\u001b[0m         keep_suspended \u001b[38;5;241m=\u001b[39m \u001b[38;5;28;43mself\u001b[39;49m\u001b[38;5;241;43m.\u001b[39;49m\u001b[43m_do_wait_suspend\u001b[49m\u001b[43m(\u001b[49m\u001b[43mthread\u001b[49m\u001b[43m,\u001b[49m\u001b[43m \u001b[49m\u001b[43mframe\u001b[49m\u001b[43m,\u001b[49m\u001b[43m \u001b[49m\u001b[43mevent\u001b[49m\u001b[43m,\u001b[49m\u001b[43m \u001b[49m\u001b[43marg\u001b[49m\u001b[43m,\u001b[49m\u001b[43m \u001b[49m\u001b[43msuspend_type\u001b[49m\u001b[43m,\u001b[49m\u001b[43m \u001b[49m\u001b[43mfrom_this_thread\u001b[49m\u001b[43m,\u001b[49m\u001b[43m \u001b[49m\u001b[43mframes_tracker\u001b[49m\u001b[43m)\u001b[49m\n\u001b[0;32m   2064\u001b[0m frames_list \u001b[38;5;241m=\u001b[39m \u001b[38;5;28;01mNone\u001b[39;00m\n\u001b[0;32m   2066\u001b[0m \u001b[38;5;28;01mif\u001b[39;00m keep_suspended:\n\u001b[0;32m   2067\u001b[0m     \u001b[38;5;66;03m# This means that we should pause again after a set next statement.\u001b[39;00m\n",
      "File \u001b[1;32m~\\AppData\\Roaming\\Python\\Python310\\site-packages\\debugpy\\_vendored\\pydevd\\pydevd.py:2098\u001b[0m, in \u001b[0;36mPyDB._do_wait_suspend\u001b[1;34m(self, thread, frame, event, arg, suspend_type, from_this_thread, frames_tracker)\u001b[0m\n\u001b[0;32m   2095\u001b[0m         \u001b[38;5;28mself\u001b[39m\u001b[38;5;241m.\u001b[39m_call_input_hook()\n\u001b[0;32m   2097\u001b[0m     \u001b[38;5;28mself\u001b[39m\u001b[38;5;241m.\u001b[39mprocess_internal_commands()\n\u001b[1;32m-> 2098\u001b[0m     \u001b[43mtime\u001b[49m\u001b[38;5;241;43m.\u001b[39;49m\u001b[43msleep\u001b[49m\u001b[43m(\u001b[49m\u001b[38;5;241;43m0.01\u001b[39;49m\u001b[43m)\u001b[49m\n\u001b[0;32m   2100\u001b[0m \u001b[38;5;28mself\u001b[39m\u001b[38;5;241m.\u001b[39mcancel_async_evaluation(get_current_thread_id(thread), \u001b[38;5;28mstr\u001b[39m(\u001b[38;5;28mid\u001b[39m(frame)))\n\u001b[0;32m   2102\u001b[0m \u001b[38;5;66;03m# process any stepping instructions\u001b[39;00m\n",
      "\u001b[1;31mKeyboardInterrupt\u001b[0m: "
     ]
    }
   ],
   "source": [
    "stock_info.drop(['open', 'trade_date', 'ts_code'], axis=1, inplace=True)\n",
    "stock_info = label.merge(stock_info, on='ts_date_id', how='left')\n",
    "stock_info.to_csv('output.csv', index=False)\n",
    "stock_info.dropna(inplace=True)\n",
    "print(stock_info)"
   ]
  },
  {
   "cell_type": "code",
<<<<<<< Updated upstream
   "execution_count": 15,
=======
   "execution_count": 13,
>>>>>>> Stashed changes
   "metadata": {},
   "outputs": [
    {
     "name": "stdout",
     "output_type": "stream",
     "text": [
      "0\n"
     ]
    }
   ],
   "source": [
    "stock_info = stock_info.reset_index(drop=True)\n",
    "print(len(stock_info))"
   ]
  },
  {
   "cell_type": "code",
<<<<<<< Updated upstream
   "execution_count": 16,
=======
   "execution_count": 14,
>>>>>>> Stashed changes
   "metadata": {},
   "outputs": [
    {
     "data": {
      "text/html": [
       "<div>\n",
       "<style scoped>\n",
       "    .dataframe tbody tr th:only-of-type {\n",
       "        vertical-align: middle;\n",
       "    }\n",
       "\n",
       "    .dataframe tbody tr th {\n",
       "        vertical-align: top;\n",
       "    }\n",
       "\n",
       "    .dataframe thead th {\n",
       "        text-align: right;\n",
       "    }\n",
       "</style>\n",
       "<table border=\"1\" class=\"dataframe\">\n",
       "  <thead>\n",
       "    <tr style=\"text-align: right;\">\n",
       "      <th></th>\n",
       "      <th>ts_code</th>\n",
       "      <th>trade_date</th>\n",
       "      <th>open</th>\n",
       "      <th>ts_date_id</th>\n",
       "      <th>label_final</th>\n",
       "      <th>high</th>\n",
       "      <th>low</th>\n",
       "      <th>close</th>\n",
       "      <th>pre_close</th>\n",
       "      <th>change</th>\n",
       "      <th>...</th>\n",
       "      <th>amount_shift_1</th>\n",
       "      <th>amount_shift_2</th>\n",
       "      <th>amount_shift_3</th>\n",
       "      <th>amount_shift_4</th>\n",
       "      <th>amount_shift_5</th>\n",
       "      <th>pre_close_shift_1</th>\n",
       "      <th>pre_close_shift_2</th>\n",
       "      <th>pre_close_shift_3</th>\n",
       "      <th>pre_close_shift_4</th>\n",
       "      <th>pre_close_shift_5</th>\n",
       "    </tr>\n",
       "  </thead>\n",
       "  <tbody>\n",
       "  </tbody>\n",
       "</table>\n",
       "<p>0 rows × 78 columns</p>\n",
       "</div>"
      ],
      "text/plain": [
       "Empty DataFrame\n",
       "Columns: [ts_code, trade_date, open, ts_date_id, label_final, high, low, close, pre_close, change, pct_chg, vol, amount, turnover_rate, volume_ratio, ma5, ma_v_5, ma10, ma_v_10, ma13, ma_v_13, ma21, ma_v_21, ma30, ma_v_30, ma60, ma_v_60, ma120, ma_v_120, ma5_5, ma10_5, ma13_5, ma21_5, ma30_5, ma_v_5_5, ma_v_10_5, ma_v_13_5, ma_v_21_5, ma_v_30_5, ts_code_id, trade_date_id, name, area, industry, market, exchange, list_date, is_hs, is_ST, month, weekday, U-D, open_transform, high_transform, low_transform, pre_close_transform, amount_index_000001, pre_close_index_000001, amount_index_000001_shift_1, amount_index_000001_shift_2, amount_index_000001_shift_3, amount_index_000001_shift_4, amount_index_000001_shift_5, pre_close_index_000001_shift_1, pre_close_index_000001_shift_2, pre_close_index_000001_shift_3, pre_close_index_000001_shift_4, pre_close_index_000001_shift_5, amount_shift_1, amount_shift_2, amount_shift_3, amount_shift_4, amount_shift_5, pre_close_shift_1, pre_close_shift_2, pre_close_shift_3, pre_close_shift_4, pre_close_shift_5]\n",
       "Index: []\n",
       "\n",
       "[0 rows x 78 columns]"
      ]
     },
<<<<<<< Updated upstream
     "execution_count": 16,
=======
     "execution_count": 14,
>>>>>>> Stashed changes
     "metadata": {},
     "output_type": "execute_result"
    }
   ],
   "source": [
    "stock_info.head()"
   ]
  },
  {
   "cell_type": "markdown",
   "metadata": {},
   "source": [
    "# 模型训练"
   ]
  },
  {
   "cell_type": "code",
<<<<<<< Updated upstream
   "execution_count": 20,
=======
   "execution_count": 15,
>>>>>>> Stashed changes
   "metadata": {},
   "outputs": [],
   "source": [
    "\n",
    "trn_col = feature_col\n",
    "# 'high', 'low', 'close', 'pre_close',\n",
    "trn_col = list(set(trn_col))\n",
    "label = 'label_final'\n",
    "# trn_date_min = 20170103\n",
    "# trn_date_max = 20190416\n",
    "# val_date_min = 20190417\n",
    "# val_date_max = 20190429\n",
    "# test_date_min = 20190417\n",
    "# test_date_max = 20191218\n",
    "\n",
    "trn_date_min = 20160103\n",
    "trn_date_max = 20190101\n",
    "val_date_min = 20190101\n",
    "val_date_max = 20190419\n",
    "test_date_min = 20190101\n",
    "test_date_max = 20191218\n",
    "\n",
    "trn_data_idx = (stock_info['trade_date'] >= trn_date_min) & (stock_info['trade_date'] <= trn_date_max) & (stock_info['high']!=stock_info['close'])\n",
    "val_data_idx = (stock_info['trade_date'] >= val_date_min) & (stock_info['trade_date'] <= val_date_max)\n",
    "test_data_idx = (stock_info['trade_date'] >= test_date_min) & (stock_info['trade_date'] <= test_date_max)\n",
    "\n",
    "trn = stock_info[trn_data_idx][trn_col]\n",
    "trn_label = stock_info[trn_data_idx][label].values\n",
    "\n",
    "val = stock_info[val_data_idx][trn_col]\n",
    "val_label = stock_info[val_data_idx][label].values \n",
    "\n",
    "test = stock_info[test_data_idx][trn_col]\n",
    "test_label = stock_info[test_data_idx][label].values"
   ]
  },
  {
   "cell_type": "code",
<<<<<<< Updated upstream
   "execution_count": 25,
=======
   "execution_count": 16,
>>>>>>> Stashed changes
   "metadata": {},
   "outputs": [
    {
     "name": "stdout",
     "output_type": "stream",
     "text": [
      "rate of 0: nan, rate of 1: nan\n",
      "trn data:0, val data:0, test data:0\n",
      "number of features:29\n",
      "['month', 'weekday', 'U-D', 'vol', 'open_transform', 'high_transform', 'low_transform', 'high_transform', 'pre_close_transform', 'amount_index_000001_shift_1', 'amount_index_000001_shift_2', 'amount_index_000001_shift_3', 'amount_index_000001_shift_4', 'amount_index_000001_shift_5', 'pre_close_index_000001_shift_1', 'pre_close_index_000001_shift_2', 'pre_close_index_000001_shift_3', 'pre_close_index_000001_shift_4', 'pre_close_index_000001_shift_5', 'amount_shift_1', 'amount_shift_2', 'amount_shift_3', 'amount_shift_4', 'amount_shift_5', 'pre_close_shift_1', 'pre_close_shift_2', 'pre_close_shift_3', 'pre_close_shift_4', 'pre_close_shift_5', 'turnover_rate']\n"
     ]
    },
    {
     "name": "stderr",
     "output_type": "stream",
     "text": [
<<<<<<< Updated upstream
      "C:\\Users\\dllss\\AppData\\Local\\Temp\\ipykernel_14656\\3594516288.py:2: RuntimeWarning: invalid value encountered in long_scalars\n",
=======
      "C:\\Users\\dllss\\AppData\\Local\\Temp\\ipykernel_4712\\3594516288.py:2: RuntimeWarning: invalid value encountered in long_scalars\n",
>>>>>>> Stashed changes
      "  print('rate of 0: %.4f, rate of 1: %.4f' % (np.sum(trn_label==0)/len(trn_label), np.sum(trn_label==1)/len(trn_label)))\n"
     ]
    }
   ],
   "source": [
    "# 使用的特征：星期；月份；当日涨停数-当日跌停数；转换后的开盘、收盘等价；近五日的收盘价、成交量（换成比例的）；\n",
    "print('rate of 0: %.4f, rate of 1: %.4f' % (np.sum(trn_label==0)/len(trn_label), np.sum(trn_label==1)/len(trn_label)))\n",
    "print('trn data:%d, val data:%d, test data:%d' % (len(trn), len(val), len(test)))\n",
    "print('number of features:%d' % len(trn_col))\n",
    "print(feature_col)"
   ]
  },
  {
   "cell_type": "code",
<<<<<<< Updated upstream
   "execution_count": 26,
=======
   "execution_count": 17,
>>>>>>> Stashed changes
   "metadata": {},
   "outputs": [],
   "source": [
    "def win_score_eval(preds, valid_df):\n",
    "    labels = valid_df.get_label()\n",
    "    preds = np.round(preds)\n",
    "    tp = np.sum((preds==1)&(labels==1))\n",
    "    pp = np.sum(preds==1)\n",
    "    scores = tp/(pp+0.001) + 2.5*tp - pp\n",
    "#     preds = np.argmax(preds.reshape(3, -1), axis=0)\n",
    "#     scores = f1_score(y_true=labels, y_pred=preds, average='macro')\n",
    "    return 'win', scores, True"
   ]
  },
  {
   "cell_type": "code",
<<<<<<< Updated upstream
   "execution_count": 28,
   "metadata": {},
   "outputs": [
    {
=======
   "execution_count": 18,
   "metadata": {},
   "outputs": [
    {
     "name": "stderr",
     "output_type": "stream",
     "text": [
      "d:\\Program Files\\Python\\Python310\\lib\\site-packages\\lightgbm\\engine.py:239: UserWarning: 'verbose_eval' argument is deprecated and will be removed in a future release of LightGBM. Pass 'log_evaluation()' callback via 'callbacks' argument instead.\n",
      "  _log_warning(\"'verbose_eval' argument is deprecated and will be removed in a future release of LightGBM. \"\n"
     ]
    },
    {
>>>>>>> Stashed changes
     "ename": "ValueError",
     "evalue": "Input data must be 2 dimensional and non empty.",
     "output_type": "error",
     "traceback": [
      "\u001b[1;31m---------------------------------------------------------------------------\u001b[0m",
      "\u001b[1;31mValueError\u001b[0m                                Traceback (most recent call last)",
<<<<<<< Updated upstream
      "Cell \u001b[1;32mIn [28], line 18\u001b[0m\n\u001b[0;32m     15\u001b[0m num_round \u001b[38;5;241m=\u001b[39m\u001b[38;5;241m1000\u001b[39m\n\u001b[0;32m     16\u001b[0m \u001b[38;5;66;03m# clf = lgb.train(param, trn_data, num_round, valid_sets=[trn_data, val_data], verbose_eval=100,\u001b[39;00m\n\u001b[0;32m     17\u001b[0m \u001b[38;5;66;03m#                 early_stopping_rounds=300, feval=win_score_eval)\u001b[39;00m\n\u001b[1;32m---> 18\u001b[0m clf \u001b[38;5;241m=\u001b[39m \u001b[43mlgb\u001b[49m\u001b[38;5;241;43m.\u001b[39;49m\u001b[43mtrain\u001b[49m\u001b[43m(\u001b[49m\u001b[43mparam\u001b[49m\u001b[43m,\u001b[49m\u001b[43m \u001b[49m\u001b[43mtrn_data\u001b[49m\u001b[43m,\u001b[49m\u001b[43m \u001b[49m\u001b[43mnum_round\u001b[49m\u001b[43m,\u001b[49m\u001b[43m \u001b[49m\u001b[43mverbose_eval\u001b[49m\u001b[38;5;241;43m=\u001b[39;49m\u001b[38;5;241;43m300\u001b[39;49m\u001b[43m)\u001b[49m\n\u001b[0;32m     19\u001b[0m \u001b[38;5;66;03m# oof_lgb = clf.predict(val, num_iteration=clf.best_iteration)\u001b[39;00m\n\u001b[0;32m     20\u001b[0m test_lgb \u001b[38;5;241m=\u001b[39m clf\u001b[38;5;241m.\u001b[39mpredict(test, num_iteration\u001b[38;5;241m=\u001b[39mclf\u001b[38;5;241m.\u001b[39mbest_iteration)\n",
=======
      "Cell \u001b[1;32mIn [18], line 18\u001b[0m\n\u001b[0;32m     15\u001b[0m num_round \u001b[38;5;241m=\u001b[39m\u001b[38;5;241m1000\u001b[39m\n\u001b[0;32m     16\u001b[0m \u001b[38;5;66;03m# clf = lgb.train(param, trn_data, num_round, valid_sets=[trn_data, val_data], verbose_eval=100,\u001b[39;00m\n\u001b[0;32m     17\u001b[0m \u001b[38;5;66;03m#                 early_stopping_rounds=300, feval=win_score_eval)\u001b[39;00m\n\u001b[1;32m---> 18\u001b[0m clf \u001b[38;5;241m=\u001b[39m \u001b[43mlgb\u001b[49m\u001b[38;5;241;43m.\u001b[39;49m\u001b[43mtrain\u001b[49m\u001b[43m(\u001b[49m\u001b[43mparam\u001b[49m\u001b[43m,\u001b[49m\u001b[43m \u001b[49m\u001b[43mtrn_data\u001b[49m\u001b[43m,\u001b[49m\u001b[43m \u001b[49m\u001b[43mnum_round\u001b[49m\u001b[43m,\u001b[49m\u001b[43m \u001b[49m\u001b[43mverbose_eval\u001b[49m\u001b[38;5;241;43m=\u001b[39;49m\u001b[38;5;241;43m300\u001b[39;49m\u001b[43m)\u001b[49m\n\u001b[0;32m     19\u001b[0m \u001b[38;5;66;03m# oof_lgb = clf.predict(val, num_iteration=clf.best_iteration)\u001b[39;00m\n\u001b[0;32m     20\u001b[0m test_lgb \u001b[38;5;241m=\u001b[39m clf\u001b[38;5;241m.\u001b[39mpredict(test, num_iteration\u001b[38;5;241m=\u001b[39mclf\u001b[38;5;241m.\u001b[39mbest_iteration)\n",
>>>>>>> Stashed changes
      "File \u001b[1;32md:\\Program Files\\Python\\Python310\\lib\\site-packages\\lightgbm\\engine.py:271\u001b[0m, in \u001b[0;36mtrain\u001b[1;34m(params, train_set, num_boost_round, valid_sets, valid_names, fobj, feval, init_model, feature_name, categorical_feature, early_stopping_rounds, evals_result, verbose_eval, learning_rates, keep_training_booster, callbacks)\u001b[0m\n\u001b[0;32m    269\u001b[0m \u001b[38;5;66;03m# construct booster\u001b[39;00m\n\u001b[0;32m    270\u001b[0m \u001b[38;5;28;01mtry\u001b[39;00m:\n\u001b[1;32m--> 271\u001b[0m     booster \u001b[38;5;241m=\u001b[39m \u001b[43mBooster\u001b[49m\u001b[43m(\u001b[49m\u001b[43mparams\u001b[49m\u001b[38;5;241;43m=\u001b[39;49m\u001b[43mparams\u001b[49m\u001b[43m,\u001b[49m\u001b[43m \u001b[49m\u001b[43mtrain_set\u001b[49m\u001b[38;5;241;43m=\u001b[39;49m\u001b[43mtrain_set\u001b[49m\u001b[43m)\u001b[49m\n\u001b[0;32m    272\u001b[0m     \u001b[38;5;28;01mif\u001b[39;00m is_valid_contain_train:\n\u001b[0;32m    273\u001b[0m         booster\u001b[38;5;241m.\u001b[39mset_train_data_name(train_data_name)\n",
      "File \u001b[1;32md:\\Program Files\\Python\\Python310\\lib\\site-packages\\lightgbm\\basic.py:2605\u001b[0m, in \u001b[0;36mBooster.__init__\u001b[1;34m(self, params, train_set, model_file, model_str, silent)\u001b[0m\n\u001b[0;32m   2598\u001b[0m     \u001b[38;5;28mself\u001b[39m\u001b[38;5;241m.\u001b[39mset_network(\n\u001b[0;32m   2599\u001b[0m         machines\u001b[38;5;241m=\u001b[39mmachines,\n\u001b[0;32m   2600\u001b[0m         local_listen_port\u001b[38;5;241m=\u001b[39mparams[\u001b[38;5;124m\"\u001b[39m\u001b[38;5;124mlocal_listen_port\u001b[39m\u001b[38;5;124m\"\u001b[39m],\n\u001b[0;32m   2601\u001b[0m         listen_time_out\u001b[38;5;241m=\u001b[39mparams\u001b[38;5;241m.\u001b[39mget(\u001b[38;5;124m\"\u001b[39m\u001b[38;5;124mtime_out\u001b[39m\u001b[38;5;124m\"\u001b[39m, \u001b[38;5;241m120\u001b[39m),\n\u001b[0;32m   2602\u001b[0m         num_machines\u001b[38;5;241m=\u001b[39mparams[\u001b[38;5;124m\"\u001b[39m\u001b[38;5;124mnum_machines\u001b[39m\u001b[38;5;124m\"\u001b[39m]\n\u001b[0;32m   2603\u001b[0m     )\n\u001b[0;32m   2604\u001b[0m \u001b[38;5;66;03m# construct booster object\u001b[39;00m\n\u001b[1;32m-> 2605\u001b[0m \u001b[43mtrain_set\u001b[49m\u001b[38;5;241;43m.\u001b[39;49m\u001b[43mconstruct\u001b[49m\u001b[43m(\u001b[49m\u001b[43m)\u001b[49m\n\u001b[0;32m   2606\u001b[0m \u001b[38;5;66;03m# copy the parameters from train_set\u001b[39;00m\n\u001b[0;32m   2607\u001b[0m params\u001b[38;5;241m.\u001b[39mupdate(train_set\u001b[38;5;241m.\u001b[39mget_params())\n",
      "File \u001b[1;32md:\\Program Files\\Python\\Python310\\lib\\site-packages\\lightgbm\\basic.py:1815\u001b[0m, in \u001b[0;36mDataset.construct\u001b[1;34m(self)\u001b[0m\n\u001b[0;32m   1812\u001b[0m             \u001b[38;5;28mself\u001b[39m\u001b[38;5;241m.\u001b[39m_set_init_score_by_predictor(\u001b[38;5;28mself\u001b[39m\u001b[38;5;241m.\u001b[39m_predictor, \u001b[38;5;28mself\u001b[39m\u001b[38;5;241m.\u001b[39mdata, used_indices)\n\u001b[0;32m   1813\u001b[0m \u001b[38;5;28;01melse\u001b[39;00m:\n\u001b[0;32m   1814\u001b[0m     \u001b[38;5;66;03m# create train\u001b[39;00m\n\u001b[1;32m-> 1815\u001b[0m     \u001b[38;5;28;43mself\u001b[39;49m\u001b[38;5;241;43m.\u001b[39;49m\u001b[43m_lazy_init\u001b[49m\u001b[43m(\u001b[49m\u001b[38;5;28;43mself\u001b[39;49m\u001b[38;5;241;43m.\u001b[39;49m\u001b[43mdata\u001b[49m\u001b[43m,\u001b[49m\u001b[43m \u001b[49m\u001b[43mlabel\u001b[49m\u001b[38;5;241;43m=\u001b[39;49m\u001b[38;5;28;43mself\u001b[39;49m\u001b[38;5;241;43m.\u001b[39;49m\u001b[43mlabel\u001b[49m\u001b[43m,\u001b[49m\n\u001b[0;32m   1816\u001b[0m \u001b[43m                    \u001b[49m\u001b[43mweight\u001b[49m\u001b[38;5;241;43m=\u001b[39;49m\u001b[38;5;28;43mself\u001b[39;49m\u001b[38;5;241;43m.\u001b[39;49m\u001b[43mweight\u001b[49m\u001b[43m,\u001b[49m\u001b[43m \u001b[49m\u001b[43mgroup\u001b[49m\u001b[38;5;241;43m=\u001b[39;49m\u001b[38;5;28;43mself\u001b[39;49m\u001b[38;5;241;43m.\u001b[39;49m\u001b[43mgroup\u001b[49m\u001b[43m,\u001b[49m\n\u001b[0;32m   1817\u001b[0m \u001b[43m                    \u001b[49m\u001b[43minit_score\u001b[49m\u001b[38;5;241;43m=\u001b[39;49m\u001b[38;5;28;43mself\u001b[39;49m\u001b[38;5;241;43m.\u001b[39;49m\u001b[43minit_score\u001b[49m\u001b[43m,\u001b[49m\u001b[43m \u001b[49m\u001b[43mpredictor\u001b[49m\u001b[38;5;241;43m=\u001b[39;49m\u001b[38;5;28;43mself\u001b[39;49m\u001b[38;5;241;43m.\u001b[39;49m\u001b[43m_predictor\u001b[49m\u001b[43m,\u001b[49m\n\u001b[0;32m   1818\u001b[0m \u001b[43m                    \u001b[49m\u001b[43msilent\u001b[49m\u001b[38;5;241;43m=\u001b[39;49m\u001b[38;5;28;43mself\u001b[39;49m\u001b[38;5;241;43m.\u001b[39;49m\u001b[43msilent\u001b[49m\u001b[43m,\u001b[49m\u001b[43m \u001b[49m\u001b[43mfeature_name\u001b[49m\u001b[38;5;241;43m=\u001b[39;49m\u001b[38;5;28;43mself\u001b[39;49m\u001b[38;5;241;43m.\u001b[39;49m\u001b[43mfeature_name\u001b[49m\u001b[43m,\u001b[49m\n\u001b[0;32m   1819\u001b[0m \u001b[43m                    \u001b[49m\u001b[43mcategorical_feature\u001b[49m\u001b[38;5;241;43m=\u001b[39;49m\u001b[38;5;28;43mself\u001b[39;49m\u001b[38;5;241;43m.\u001b[39;49m\u001b[43mcategorical_feature\u001b[49m\u001b[43m,\u001b[49m\u001b[43m \u001b[49m\u001b[43mparams\u001b[49m\u001b[38;5;241;43m=\u001b[39;49m\u001b[38;5;28;43mself\u001b[39;49m\u001b[38;5;241;43m.\u001b[39;49m\u001b[43mparams\u001b[49m\u001b[43m)\u001b[49m\n\u001b[0;32m   1820\u001b[0m \u001b[38;5;28;01mif\u001b[39;00m \u001b[38;5;28mself\u001b[39m\u001b[38;5;241m.\u001b[39mfree_raw_data:\n\u001b[0;32m   1821\u001b[0m     \u001b[38;5;28mself\u001b[39m\u001b[38;5;241m.\u001b[39mdata \u001b[38;5;241m=\u001b[39m \u001b[38;5;28;01mNone\u001b[39;00m\n",
      "File \u001b[1;32md:\\Program Files\\Python\\Python310\\lib\\site-packages\\lightgbm\\basic.py:1474\u001b[0m, in \u001b[0;36mDataset._lazy_init\u001b[1;34m(self, data, label, reference, weight, group, init_score, predictor, silent, feature_name, categorical_feature, params)\u001b[0m\n\u001b[0;32m   1472\u001b[0m     \u001b[38;5;28mself\u001b[39m\u001b[38;5;241m.\u001b[39mpandas_categorical \u001b[38;5;241m=\u001b[39m reference\u001b[38;5;241m.\u001b[39mpandas_categorical\n\u001b[0;32m   1473\u001b[0m     categorical_feature \u001b[38;5;241m=\u001b[39m reference\u001b[38;5;241m.\u001b[39mcategorical_feature\n\u001b[1;32m-> 1474\u001b[0m data, feature_name, categorical_feature, \u001b[38;5;28mself\u001b[39m\u001b[38;5;241m.\u001b[39mpandas_categorical \u001b[38;5;241m=\u001b[39m \u001b[43m_data_from_pandas\u001b[49m\u001b[43m(\u001b[49m\u001b[43mdata\u001b[49m\u001b[43m,\u001b[49m\n\u001b[0;32m   1475\u001b[0m \u001b[43m                                                                                     \u001b[49m\u001b[43mfeature_name\u001b[49m\u001b[43m,\u001b[49m\n\u001b[0;32m   1476\u001b[0m \u001b[43m                                                                                     \u001b[49m\u001b[43mcategorical_feature\u001b[49m\u001b[43m,\u001b[49m\n\u001b[0;32m   1477\u001b[0m \u001b[43m                                                                                     \u001b[49m\u001b[38;5;28;43mself\u001b[39;49m\u001b[38;5;241;43m.\u001b[39;49m\u001b[43mpandas_categorical\u001b[49m\u001b[43m)\u001b[49m\n\u001b[0;32m   1478\u001b[0m label \u001b[38;5;241m=\u001b[39m _label_from_pandas(label)\n\u001b[0;32m   1480\u001b[0m \u001b[38;5;66;03m# process for args\u001b[39;00m\n",
      "File \u001b[1;32md:\\Program Files\\Python\\Python310\\lib\\site-packages\\lightgbm\\basic.py:566\u001b[0m, in \u001b[0;36m_data_from_pandas\u001b[1;34m(data, feature_name, categorical_feature, pandas_categorical)\u001b[0m\n\u001b[0;32m    564\u001b[0m \u001b[38;5;28;01mif\u001b[39;00m \u001b[38;5;28misinstance\u001b[39m(data, pd_DataFrame):\n\u001b[0;32m    565\u001b[0m     \u001b[38;5;28;01mif\u001b[39;00m \u001b[38;5;28mlen\u001b[39m(data\u001b[38;5;241m.\u001b[39mshape) \u001b[38;5;241m!=\u001b[39m \u001b[38;5;241m2\u001b[39m \u001b[38;5;129;01mor\u001b[39;00m data\u001b[38;5;241m.\u001b[39mshape[\u001b[38;5;241m0\u001b[39m] \u001b[38;5;241m<\u001b[39m \u001b[38;5;241m1\u001b[39m:\n\u001b[1;32m--> 566\u001b[0m         \u001b[38;5;28;01mraise\u001b[39;00m \u001b[38;5;167;01mValueError\u001b[39;00m(\u001b[38;5;124m'\u001b[39m\u001b[38;5;124mInput data must be 2 dimensional and non empty.\u001b[39m\u001b[38;5;124m'\u001b[39m)\n\u001b[0;32m    567\u001b[0m     \u001b[38;5;28;01mif\u001b[39;00m feature_name \u001b[38;5;241m==\u001b[39m \u001b[38;5;124m'\u001b[39m\u001b[38;5;124mauto\u001b[39m\u001b[38;5;124m'\u001b[39m \u001b[38;5;129;01mor\u001b[39;00m feature_name \u001b[38;5;129;01mis\u001b[39;00m \u001b[38;5;28;01mNone\u001b[39;00m:\n\u001b[0;32m    568\u001b[0m         data \u001b[38;5;241m=\u001b[39m data\u001b[38;5;241m.\u001b[39mrename(columns\u001b[38;5;241m=\u001b[39m\u001b[38;5;28mstr\u001b[39m)\n",
      "\u001b[1;31mValueError\u001b[0m: Input data must be 2 dimensional and non empty."
     ]
    }
   ],
   "source": [
    "# 模型训练及评价\n",
    "import lightgbm as lgb\n",
    "from sklearn import metrics\n",
    "param = {'num_leaves': 31,\n",
    "         'min_data_in_leaf': 20,\n",
    "         'objective': 'binary',\n",
    "         'learning_rate': 0.06,\n",
    "         \"boosting\": \"gbdt\",\n",
    "#          \"bagging_freq\": 1,\n",
    "#          \"bagging_seed\": 11,\n",
    "         \"metric\": 'None',\n",
    "         \"verbosity\": -1}\n",
    "trn_data = lgb.Dataset(trn, trn_label)\n",
    "val_data = lgb.Dataset(val, val_label)\n",
    "num_round =1000\n",
    "# clf = lgb.train(param, trn_data, num_round, valid_sets=[trn_data, val_data], verbose_eval=100,\n",
    "#                 early_stopping_rounds=300, feval=win_score_eval)\n",
    "clf = lgb.train(param, trn_data, num_round, verbose_eval=300)\n",
    "# oof_lgb = clf.predict(val, num_iteration=clf.best_iteration)\n",
    "test_lgb = clf.predict(test, num_iteration=clf.best_iteration)"
   ]
  },
  {
   "cell_type": "code",
   "execution_count": null,
   "metadata": {},
   "outputs": [],
   "source": [
    "pd.DataFrame({\n",
    "        'column': trn_col,\n",
    "        'importance': clf.feature_importance(),\n",
    "    }).sort_values(by='importance', ascending=False)"
   ]
  },
  {
   "cell_type": "markdown",
   "metadata": {},
   "source": [
    "# 模型评价"
   ]
  },
  {
   "cell_type": "code",
   "execution_count": null,
   "metadata": {},
   "outputs": [],
   "source": [
    "# oof_lgb_final = np.round(oof_lgb)\n",
    "# print(metrics.accuracy_score(val_label, oof_lgb_final))\n",
    "# print(metrics.confusion_matrix(val_label, oof_lgb_final))\n",
    "# tp = np.sum(((oof_lgb_final == 1) & (val_label == 1)))\n",
    "# pp = np.sum(oof_lgb_final == 1)\n",
    "# print('sensitivity:%.3f'% (tp/(pp)))"
   ]
  },
  {
   "cell_type": "code",
   "execution_count": null,
   "metadata": {},
   "outputs": [],
   "source": [
    "thresh_hold = 0.5\n",
    "# oof_test_final = (test_lgb >= 0.69) & (test_lgb <=0.7)\n",
    "oof_test_final = test_lgb >= thresh_hold\n",
    "print(metrics.accuracy_score(test_label, oof_test_final))\n",
    "print(metrics.confusion_matrix(test_label, oof_test_final))\n",
    "tp = np.sum(((oof_test_final == 1) & (test_label == 1)))\n",
    "pp = np.sum(oof_test_final == 1)\n",
    "print('accuracy:%.3f'% (tp/(pp)))"
   ]
  },
  {
   "cell_type": "code",
   "execution_count": null,
   "metadata": {},
   "outputs": [],
   "source": [
    "test_postive_idx = np.argwhere(oof_test_final == 1).reshape(-1)\n",
    "# test_postive_idx = list(range(len(oof_test_final)))\n",
    "test_all_idx = np.argwhere(test_data_idx).reshape(-1)"
   ]
  },
  {
   "cell_type": "code",
   "execution_count": null,
   "metadata": {},
   "outputs": [],
   "source": [
    "# 查看选了哪些股票\n",
    "tmp_col = ['ts_code', 'name', 'trade_date', 'open', 'high', 'low', 'close', 'pre_close',\n",
    "       'change', 'pct_chg', 'amount', 'is_ST', 'label_final']\n",
    "# stock_info.iloc[test_all_idx[test_postive_idx]]\n",
    "\n",
    "tmp_df = stock_info[tmp_col].iloc[test_all_idx[test_postive_idx]].reset_index()\n",
    "tmp_df['label_prob'] = test_lgb[test_postive_idx]\n",
    "# idx_tmp = tmp_df['is_ST'] == 0\n",
    "# tmp_df.loc[idx_tmp, 'is_limit_up'] = (((tmp_df['close'][idx_tmp]-tmp_df['pre_close'][idx_tmp]) / tmp_df['pre_close'][idx_tmp]) > 0.095)\n",
    "# idx_tmp = tmp_df['is_ST'] == 1\n",
    "# tmp_df.loc[idx_tmp, 'is_limit_up'] = (((tmp_df['close'][idx_tmp]-tmp_df['pre_close'][idx_tmp]) / tmp_df['pre_close'][idx_tmp]) > 0.047)\n",
    "\n",
    "tmp_df['is_limit_up'] = tmp_df['close'] == tmp_df['high']\n",
    "\n",
    "buy_df = tmp_df[(tmp_df['is_limit_up']==False)].reset_index()\n",
    "buy_df.drop(['index', 'level_0'], axis=1, inplace=True)"
   ]
  },
  {
   "cell_type": "code",
   "execution_count": null,
   "metadata": {},
   "outputs": [],
   "source": [
    "print(len(buy_df), sum(buy_df['label_final']))"
   ]
  },
  {
   "cell_type": "markdown",
   "metadata": {},
   "source": [
    "# 回测"
   ]
  },
  {
   "cell_type": "code",
   "execution_count": null,
   "metadata": {},
   "outputs": [],
   "source": [
    "# stock_info.reset_index().head()\n",
    "# 读取指数信息\n",
    "index_df = pd.read_csv(os.path.join(base_path,  'OldData', '000001.SH' + '_NormalData.csv'))\n",
    "tmp_idx = (index_df['trade_date'] >= test_date_min) & (index_df['trade_date'] <= test_date_max)\n",
    "index_df = index_df.loc[tmp_idx].reset_index()\n",
    "index_df.drop('index', axis=1, inplace=True)"
   ]
  },
  {
   "cell_type": "code",
   "execution_count": null,
   "metadata": {},
   "outputs": [
    {
     "ename": "NameError",
     "evalue": "name 'index_df' is not defined",
     "output_type": "error",
     "traceback": [
      "\u001b[1;31m---------------------------------------------------------------------------\u001b[0m",
      "\u001b[1;31mNameError\u001b[0m                                 Traceback (most recent call last)",
      "Cell \u001b[1;32mIn [20], line 1\u001b[0m\n\u001b[1;32m----> 1\u001b[0m tmp_idx \u001b[38;5;241m=\u001b[39m (\u001b[43mindex_df\u001b[49m[\u001b[38;5;124m'\u001b[39m\u001b[38;5;124mtrade_date\u001b[39m\u001b[38;5;124m'\u001b[39m] \u001b[38;5;241m==\u001b[39m test_date_min\u001b[38;5;241m+\u001b[39m\u001b[38;5;241m1\u001b[39m)\n\u001b[0;32m      2\u001b[0m close1 \u001b[38;5;241m=\u001b[39m index_df[tmp_idx][\u001b[38;5;124m'\u001b[39m\u001b[38;5;124mclose\u001b[39m\u001b[38;5;124m'\u001b[39m]\u001b[38;5;241m.\u001b[39mvalues[\u001b[38;5;241m0\u001b[39m]\n\u001b[0;32m      3\u001b[0m tmp_idx \u001b[38;5;241m=\u001b[39m (index_df[\u001b[38;5;124m'\u001b[39m\u001b[38;5;124mtrade_date\u001b[39m\u001b[38;5;124m'\u001b[39m] \u001b[38;5;241m==\u001b[39m test_date_max)\n",
      "\u001b[1;31mNameError\u001b[0m: name 'index_df' is not defined"
     ]
    }
   ],
   "source": [
    "tmp_idx = (index_df['trade_date'] == test_date_min+1)\n",
    "close1 = index_df[tmp_idx]['close'].values[0]\n",
    "tmp_idx = (index_df['trade_date'] == test_date_max)\n",
    "close2 = index_df[tmp_idx]['close'].values[0]"
   ]
  },
  {
   "cell_type": "code",
   "execution_count": null,
   "metadata": {},
   "outputs": [],
   "source": [
    "from imp import reload\n",
    "import Account\n",
    "reload(Account)\n",
    "money_init = 100000\n",
    "account = Account.Account(money_init, max_hold_period=20, stop_loss_rate=-0.07, stop_profit_rate=0.12)\n",
    "account.BackTest(buy_df, stock_info_copy, index_df, buy_price='open')"
   ]
  },
  {
   "cell_type": "code",
   "execution_count": null,
   "metadata": {},
   "outputs": [],
   "source": [
    "tmp_df2 = buy_df[['ts_code', 'trade_date', 'label_prob', 'label_final']]\n",
    "tmp_df2 = tmp_df2.rename(columns={'trade_date':'buy_date'})\n",
    "tmp_df = account.info\n",
    "tmp_df = tmp_df.merge(tmp_df2, on=['ts_code', 'buy_date'], how='left')"
   ]
  },
  {
   "cell_type": "code",
   "execution_count": null,
   "metadata": {},
   "outputs": [],
   "source": [
    "tmp_df"
   ]
  },
  {
   "cell_type": "code",
   "execution_count": null,
   "metadata": {},
   "outputs": [],
   "source": [
    "account_profit = (account.market_value - money_init) / money_init\n",
    "index_profit = (close2 - close1) / close1\n",
    "win_rate = account.victory / (account.victory + account.defeat)\n",
    "print('账户盈利情况:%.4f' % account_profit)\n",
    "print('上证指数浮动情况:%.4f' % index_profit)\n",
    "print('交易胜率:%.4f' % win_rate)\n",
    "print('最大回撤率:%.4f' % account.max_retracement)"
   ]
  },
  {
   "cell_type": "code",
   "execution_count": null,
   "metadata": {},
<<<<<<< Updated upstream
   "outputs": [
    {
     "data": {
      "image/png": "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",
      "text/plain": [
       "<Figure size 864x576 with 1 Axes>"
      ]
     },
     "metadata": {
      "needs_background": "light"
     },
     "output_type": "display_data"
    }
   ],
=======
   "outputs": [],
>>>>>>> Stashed changes
   "source": [
    "import Draw\n",
    "reload(Draw)\n",
    "%matplotlib inline\n",
    "index_value = list(index_df[index_df['trade_date']==test_date_min+1]['pre_close']) + list(index_df.sort_values('trade_date')['close'])\n",
    "Draw.Draw_Market_Value_Change(0, account.market_value_all, index_value)"
   ]
  },
  {
   "cell_type": "code",
   "execution_count": null,
   "metadata": {},
   "outputs": [],
   "source": [
    "num = 0\n",
    "for ts_code, buy_date, sell_date in zip(account.info['ts_code'], account.info['buy_date'], account.info['sell_date']):\n",
    "    Draw.Draw_Stock(ts_code, stock_info, buy_date, sell_date, left_offset=10, right_offset=30)\n",
    "    num = num + 1\n",
    "    if num > 60:\n",
    "#         break"
   ]
  }
 ],
 "metadata": {
  "kernelspec": {
   "display_name": "Python 3.10.3 64-bit ('3.10.3')",
   "language": "python",
   "name": "python3"
  },
  "language_info": {
   "codemirror_mode": {
    "name": "ipython",
    "version": 3
   },
   "file_extension": ".py",
   "mimetype": "text/x-python",
   "name": "python",
   "nbconvert_exporter": "python",
   "pygments_lexer": "ipython3",
   "version": "3.10.7"
  },
  "vscode": {
   "interpreter": {
    "hash": "168078fbd95821fbdcaee015cbe93ae857c4e769fb6074e5de7144462aa268ff"
   }
  }
 },
 "nbformat": 4,
 "nbformat_minor": 2
}
